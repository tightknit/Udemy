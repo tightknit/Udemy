{
 "cells": [
  {
   "cell_type": "code",
   "execution_count": 6,
   "metadata": {},
   "outputs": [
    {
     "name": "stdout",
     "output_type": "stream",
     "text": [
      "15\n",
      "9\n",
      "36\n",
      "4.0\n",
      "4\n",
      "0\n",
      "\n",
      "1\n",
      "2\n",
      "3\n",
      "-35.0\n",
      "-35.0\n",
      "12.0\n"
     ]
    }
   ],
   "source": [
    "a =12\n",
    "b =3\n",
    "\n",
    "print(a + b)\n",
    "print(a - b)\n",
    "print(a * b)\n",
    "print(a / b)\n",
    "print(a // b) # 4 integer division rounded down towards minus infinity\n",
    "print(a % b) # 0 modulo: the remainder after integer division\n",
    "\n",
    "print()\n",
    "\n",
    "for i in range(1,4):\n",
    "    print(i)\n",
    "\n",
    "#Above i is not an expression because it has not been evaluated yet\n",
    "#Operator precedence is important\n",
    "\n",
    "print(a + b / 3 - 4 * 12)\n",
    "print(a + (b / 3) - (4 * 12))\n",
    "print ((((a + b) /3) -4) * 12)\n",
    "\n",
    "#Operator Precedence Acronyms PEMDAS,\n",
    "#BEDMAS Brackets Exponents Division/Multiplication Add/Sub\n",
    "#BODMAS Brackets Order Div/Multi Add/Sub\n",
    "#BIDMAS Brackets Index Div/Multi Add/Sub\n",
    "\n",
    "\n"
   ]
  },
  {
   "cell_type": "code",
   "execution_count": 1,
   "metadata": {},
   "outputs": [
    {
     "ename": "NameError",
     "evalue": "name 'a' is not defined",
     "output_type": "error",
     "traceback": [
      "\u001b[1;31m---------------------------------------------------------------------------\u001b[0m",
      "\u001b[1;31mNameError\u001b[0m                                 Traceback (most recent call last)",
      "\u001b[1;32m<ipython-input-1-0ae8b1612688>\u001b[0m in \u001b[0;36m<module>\u001b[1;34m\u001b[0m\n\u001b[1;32m----> 1\u001b[1;33m \u001b[0mprint\u001b[0m\u001b[1;33m(\u001b[0m\u001b[0ma\u001b[0m \u001b[1;33m+\u001b[0m \u001b[0mb\u001b[0m\u001b[1;33m)\u001b[0m\u001b[1;33m\u001b[0m\u001b[1;33m\u001b[0m\u001b[0m\n\u001b[0m",
      "\u001b[1;31mNameError\u001b[0m: name 'a' is not defined"
     ]
    }
   ],
   "source": []
  },
  {
   "cell_type": "code",
   "execution_count": null,
   "metadata": {},
   "outputs": [],
   "source": []
  },
  {
   "cell_type": "code",
   "execution_count": null,
   "metadata": {},
   "outputs": [],
   "source": []
  },
  {
   "cell_type": "code",
   "execution_count": null,
   "metadata": {},
   "outputs": [],
   "source": []
  },
  {
   "cell_type": "code",
   "execution_count": null,
   "metadata": {},
   "outputs": [],
   "source": []
  },
  {
   "cell_type": "code",
   "execution_count": null,
   "metadata": {},
   "outputs": [],
   "source": []
  }
 ],
 "metadata": {
  "kernelspec": {
   "display_name": "Python 3",
   "language": "python",
   "name": "python3"
  },
  "language_info": {
   "codemirror_mode": {
    "name": "ipython",
    "version": 3
   },
   "file_extension": ".py",
   "mimetype": "text/x-python",
   "name": "python",
   "nbconvert_exporter": "python",
   "pygments_lexer": "ipython3",
   "version": "3.7.9"
  }
 },
 "nbformat": 4,
 "nbformat_minor": 4
}
