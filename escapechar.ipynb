{
 "cells": [
  {
   "cell_type": "code",
   "execution_count": 22,
   "metadata": {},
   "outputs": [
    {
     "name": "stdout",
     "output_type": "stream",
     "text": [
      "This string has been\n",
      "split over\n",
      "several\n",
      "lines\n",
      "1\t2\t3\t4\t5\n",
      "The pet shop owner said \"No, no, 'e's uh, ....he's resting\".\n",
      "The pet shop owner said \"No, no, 'e's uh, ....he's resting\".\n",
      "The pet shop owner said \"No, no, 'e's uh, ....he's resting\". \n",
      "This String has been \n",
      "split over \n",
      "several \n",
      "lines\n",
      "This String has been split over several lines\n",
      "Number1\tThe Larch\n",
      "Number2\tThe Horse Chestnut\n",
      "C:Users\\timbuchalka\\notes.txt\n",
      "C:Users\\timbuchalka\\notes.txt\n"
     ]
    }
   ],
   "source": [
    "# Use the \\n for new line and the \\t for tab on the lines\n",
    "\n",
    "splitString = \"This string has been\\nsplit over\\nseveral\\nlines\"\n",
    "print(splitString)\n",
    "\n",
    "tabbedString = \"1\\t2\\t3\\t4\\t5\"\n",
    "print(tabbedString)\n",
    "\n",
    "#Triple Quotes keeps the string together\n",
    "print('The pet shop owner said \"No, no, \\'e\\'s uh, ....he\\'s resting\".')\n",
    "# or\n",
    "print(\"The pet shop owner said \\\"No, no, 'e's uh, ....he's resting\\\".\")\n",
    "\n",
    "print(\"\"\"The pet shop owner said \"No, no, 'e's uh, ....he's resting\". \"\"\")\n",
    "\n",
    "anotherSplitString = \"\"\"This String has been \n",
    "split over \n",
    "several \n",
    "lines\"\"\"\n",
    "\n",
    "print(anotherSplitString)\n",
    "\n",
    "anotherSplitStrings = \"\"\"This String has been \\\n",
    "split over \\\n",
    "several \\\n",
    "lines\"\"\"\n",
    "\n",
    "print(anotherSplitStrings)\n",
    "\n",
    "\n",
    "print('Number1\\tThe Larch\\nNumber2\\tThe Horse Chestnut')\n",
    "\n",
    "#Address the issue of the escape characters by inserting an addtional (\\) or using (r) to run a raw string \n",
    "#for this example print(\"C:Users\\timbuchalka\\notes.txt\")\n",
    "\n",
    "print(r\"C:Users\\timbuchalka\\notes.txt\")\n",
    "print(\"C:Users\\\\timbuchalka\\\\notes.txt\")"
   ]
  },
  {
   "cell_type": "code",
   "execution_count": null,
   "metadata": {},
   "outputs": [],
   "source": [
    "\n",
    "\n"
   ]
  },
  {
   "cell_type": "code",
   "execution_count": null,
   "metadata": {},
   "outputs": [],
   "source": []
  }
 ],
 "metadata": {
  "kernelspec": {
   "display_name": "Python 3",
   "language": "python",
   "name": "python3"
  },
  "language_info": {
   "codemirror_mode": {
    "name": "ipython",
    "version": 3
   },
   "file_extension": ".py",
   "mimetype": "text/x-python",
   "name": "python",
   "nbconvert_exporter": "python",
   "pygments_lexer": "ipython3",
   "version": "3.7.9"
  }
 },
 "nbformat": 4,
 "nbformat_minor": 4
}
