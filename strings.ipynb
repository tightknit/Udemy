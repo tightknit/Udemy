{
 "cells": [
  {
   "cell_type": "code",
   "execution_count": 14,
   "metadata": {},
   "outputs": [
    {
     "name": "stdout",
     "output_type": "stream",
     "text": [
      "Today is a good day to learn Python\n",
      "Python is fun\n",
      "Python's strings are easy to use\n",
      "We can even include \"quotes\" in strings\n",
      "hello world\n",
      "HelloArmond\n",
      "Hello Armond\n",
      "24\n",
      "<class 'str'>\n",
      "<class 'int'>\n",
      "2 years\n",
      "<class 'str'>\n"
     ]
    }
   ],
   "source": [
    "print(\"Today is a good day to learn Python\")\n",
    "print('Python is fun')\n",
    "print(\"Python's strings are easy to use\")\n",
    "print('We can even include \"quotes\" in strings')\n",
    "print(\"hello\"  +  \" world\")\n",
    "greeting = \"Hello\"\n",
    "name = \"Armond\"\n",
    "print(greeting + name)\n",
    "\n",
    "# if we want a space we can add that too\n",
    "\n",
    "print(greeting +  ' '  + name)\n",
    "\n",
    "#Variables must begin with upper or lower case letters or _\n",
    "#they can contain numbers or letters or undescore but cannot begin with number\n",
    "#case sensitive\n",
    "#creation occurs when attached (bound) using =\n",
    "\n",
    "age = 24\n",
    "print(age)\n",
    "\n",
    "#Type refers to datatype example: integer, string, float\n",
    "print(type(greeting))\n",
    "print(type(age))\n",
    "\n",
    "#rebound age\n",
    "age = \"2 years\"\n",
    "print(age)\n",
    "print(type(age))\n",
    "\n",
    "#Python Built-in Data Types\n",
    "#Numberic,iterator, sequence, mapping, class, exception, file\n",
    "#Has 3 numeric types int, complex, float\n"
   ]
  },
  {
   "cell_type": "code",
   "execution_count": null,
   "metadata": {},
   "outputs": [],
   "source": []
  }
 ],
 "metadata": {
  "kernelspec": {
   "display_name": "Python 3",
   "language": "python",
   "name": "python3"
  },
  "language_info": {
   "codemirror_mode": {
    "name": "ipython",
    "version": 3
   },
   "file_extension": ".py",
   "mimetype": "text/x-python",
   "name": "python",
   "nbconvert_exporter": "python",
   "pygments_lexer": "ipython3",
   "version": "3.7.9"
  }
 },
 "nbformat": 4,
 "nbformat_minor": 4
}
