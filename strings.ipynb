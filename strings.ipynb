{
 "cells": [
  {
   "cell_type": "code",
   "execution_count": 10,
   "metadata": {},
   "outputs": [
    {
     "name": "stdout",
     "output_type": "stream",
     "text": [
      "Today is a good day to learn Python\n",
      "Python is fun\n",
      "Python's strings are easy to use\n",
      "We can even include \"quotes\" in strings\n",
      "hello world\n"
     ]
    },
    {
     "name": "stdin",
     "output_type": "stream",
     "text": [
      "Please enter your name  Armond\n"
     ]
    },
    {
     "name": "stdout",
     "output_type": "stream",
     "text": [
      "HelloArmond\n",
      "Hello Armond\n"
     ]
    }
   ],
   "source": [
    "print(\"Today is a good day to learn Python\")\n",
    "print('Python is fun')\n",
    "print(\"Python's strings are easy to use\")\n",
    "print('We can even include \"quotes\" in strings')\n",
    "print(\"hello\"  +  \" world\")\n",
    "greeting = \"Hello\"\n",
    "name = input(\"Please enter your name \")\n",
    "print(greeting + name)\n",
    "# if we want a space we can add that too\n",
    "print(greeting +  ' '  + name)\n"
   ]
  },
  {
   "cell_type": "code",
   "execution_count": null,
   "metadata": {},
   "outputs": [],
   "source": []
  }
 ],
 "metadata": {
  "kernelspec": {
   "display_name": "Python 3",
   "language": "python",
   "name": "python3"
  },
  "language_info": {
   "codemirror_mode": {
    "name": "ipython",
    "version": 3
   },
   "file_extension": ".py",
   "mimetype": "text/x-python",
   "name": "python",
   "nbconvert_exporter": "python",
   "pygments_lexer": "ipython3",
   "version": "3.7.9"
  }
 },
 "nbformat": 4,
 "nbformat_minor": 4
}
