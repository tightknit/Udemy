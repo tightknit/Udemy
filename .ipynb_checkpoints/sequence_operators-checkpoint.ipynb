{
 "cells": [
  {
   "cell_type": "code",
   "execution_count": 8,
   "metadata": {},
   "outputs": [
    {
     "name": "stdout",
     "output_type": "stream",
     "text": [
      "he's probably pining for the fords \n",
      "he's probably pining for the fords \n",
      "\n",
      "hello hello hello hello hello \n",
      "\n",
      "True\n",
      "True\n",
      "False\n",
      "False\n"
     ]
    }
   ],
   "source": [
    "string1 = \"he's \"\n",
    "string2 = \"probably \"\n",
    "string3 = \"pining \"\n",
    "string4 = \"for the \"\n",
    "string5 = \"fords \"\n",
    "\n",
    "print(string1 + string2 + string3 + string4 + string5) # Plus sign is not necessary when concatenating \n",
    "print(\"he's \" \"probably \" \"pining \" \"for the \" \"fords \") # This is an alternative to not including the (+)\n",
    "print()\n",
    "\n",
    "#strings can be multiplied\n",
    "#operator precedence applies\n",
    "print(\"hello \" * 5)\n",
    "print()\n",
    "\n",
    "today = \"friday\"\n",
    "print(\"day\" in today)\n",
    "print(\"fri\" in today)\n",
    "print(\"thur\" in today)\n",
    "print(\"parrot\" in \"fords\")\n",
    "\n",
    "#Can coerce numbers into a string by using the str function"
   ]
  },
  {
   "cell_type": "code",
   "execution_count": null,
   "metadata": {},
   "outputs": [],
   "source": []
  }
 ],
 "metadata": {
  "kernelspec": {
   "display_name": "Python 3",
   "language": "python",
   "name": "python3"
  },
  "language_info": {
   "codemirror_mode": {
    "name": "ipython",
    "version": 3
   },
   "file_extension": ".py",
   "mimetype": "text/x-python",
   "name": "python",
   "nbconvert_exporter": "python",
   "pygments_lexer": "ipython3",
   "version": "3.7.9"
  }
 },
 "nbformat": 4,
 "nbformat_minor": 4
}
