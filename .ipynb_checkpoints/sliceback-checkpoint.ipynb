{
 "cells": [
  {
   "cell_type": "code",
   "execution_count": 52,
   "metadata": {},
   "outputs": [
    {
     "name": "stdout",
     "output_type": "stream",
     "text": [
      "zyxwvutsrqponmlkjihgfedcba\n",
      "abcdefghijklmnopqrstuvwxyz\n",
      "\n",
      "qpo\n",
      "edcba\n",
      "zyxwvuts\n"
     ]
    }
   ],
   "source": [
    "#Range     01234567890123456789012345 26 letters in alaphabet \n",
    "letters = \"abcdefghijklmnopqrstuvwxyz\"\n",
    "\n",
    "backwards = letters[::-1]\n",
    "print(backwards)\n",
    "print(letters)\n",
    "\n",
    "print()\n",
    "\n",
    "#Challenge for exercise\n",
    "#Create a slice that produces the characters qpo\n",
    "print(letters[16:13:-1]) #Counting backwards (-1)\n",
    "\n",
    "\n",
    "#Slice the string to produce edcba\n",
    "print(letters[4::-1])\n",
    "\n",
    "#Slice the string to produce last 8 characters in reverse order\n",
    "print(letters[:-9:-1])\n"
   ]
  },
  {
   "cell_type": "code",
   "execution_count": null,
   "metadata": {},
   "outputs": [],
   "source": []
  }
 ],
 "metadata": {
  "kernelspec": {
   "display_name": "Python 3",
   "language": "python",
   "name": "python3"
  },
  "language_info": {
   "codemirror_mode": {
    "name": "ipython",
    "version": 3
   },
   "file_extension": ".py",
   "mimetype": "text/x-python",
   "name": "python",
   "nbconvert_exporter": "python",
   "pygments_lexer": "ipython3",
   "version": "3.7.9"
  }
 },
 "nbformat": 4,
 "nbformat_minor": 4
}
