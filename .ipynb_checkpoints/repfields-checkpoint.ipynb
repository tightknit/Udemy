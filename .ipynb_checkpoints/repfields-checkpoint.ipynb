{
 "cells": [
  {
   "cell_type": "code",
   "execution_count": 5,
   "metadata": {},
   "outputs": [
    {
     "name": "stdout",
     "output_type": "stream",
     "text": [
      "My age is 24 years\n",
      "There are 31 days in Jan, Mar, May, Jul, Aug, Oct, and Dec\n",
      "There are 31 days in Jan, Mar, May, Jul, Aug, Oct, and Dec\n",
      "\n",
      "Jan: 31, Feb: 28, Mar: 31, Apr 30, May 31, Jun 30, Jul 31, Sep 30, Oct 31, Dec 31\n"
     ]
    }
   ],
   "source": [
    "age = 24\n",
    "print(\"My age is {0} years\" .format(age)) #used the .format to include a number in the string without coercion\n",
    "\n",
    "print(\"There are {0} days in {1}, {2}, {3}, {4}, {5}, {6}, and {7}\" \n",
    "       .format(31, \"Jan\", \"Mar\", \"May\", \"Jul\", \"Aug\", \"Oct\", \"Dec\"))\n",
    "#{} This is the replacement field. The {0} holds the spot for replacement\n",
    "\n",
    "print(\"There are {0} days in Jan, Mar, May, Jul, Aug, Oct, and Dec\".format(31)) \n",
    "#Alternative method, easier to read the code. Previous example shows\n",
    "#that there can be multiple replacement strings in the code\n",
    "\n",
    "\n",
    "print()\n",
    "print(\"Jan: {2}, Feb: {0}, Mar: {2}, Apr {1}, May {2}, Jun {1}, Jul {2}, Sep {1}, Oct {2}, Dec {2}\"\n",
    "     .format(28, 30, 31)) \n",
    "# To understand clealy, one example, Jan{2} > means that Jan is has a {2} replacement for the numbers behind the format\n",
    "# so it is replaced by the 3rd number (but we start count at 0 and end at 2), \n",
    "#{0} is being replaced by 1st number and {1} by the second\n"
   ]
  },
  {
   "cell_type": "code",
   "execution_count": null,
   "metadata": {},
   "outputs": [],
   "source": []
  }
 ],
 "metadata": {
  "kernelspec": {
   "display_name": "Python 3",
   "language": "python",
   "name": "python3"
  },
  "language_info": {
   "codemirror_mode": {
    "name": "ipython",
    "version": 3
   },
   "file_extension": ".py",
   "mimetype": "text/x-python",
   "name": "python",
   "nbconvert_exporter": "python",
   "pygments_lexer": "ipython3",
   "version": "3.7.9"
  }
 },
 "nbformat": 4,
 "nbformat_minor": 4
}
