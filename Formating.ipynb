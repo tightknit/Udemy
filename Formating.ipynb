{
 "cells": [
  {
   "cell_type": "code",
   "execution_count": 2,
   "metadata": {},
   "outputs": [
    {
     "name": "stdout",
     "output_type": "stream",
     "text": [
      "No.  1 squared is    1 and cubed is    1\n",
      "No.  2 squared is    4 and cubed is    8\n",
      "No.  3 squared is    9 and cubed is   27\n",
      "No.  4 squared is   16 and cubed is   64\n",
      "No.  5 squared is   25 and cubed is  125\n",
      "No.  6 squared is   36 and cubed is  216\n",
      "No.  7 squared is   49 and cubed is  343\n",
      "No.  8 squared is   64 and cubed is  512\n",
      "No.  9 squared is   81 and cubed is  729\n",
      "No. 10 squared is  100 and cubed is 1000\n",
      "No. 11 squared is  121 and cubed is 1331\n",
      "No. 12 squared is  144 and cubed is 1728\n"
     ]
    }
   ],
   "source": [
    "for i in range(1,13):\n",
    "    print(\"No. {0:2} squared is {1:4} and cubed is {2:4}\" .format(i, i ** 2, i **3)) \n",
    "## (**) = the exponent operator\n",
    "## Added a 2 and 4 4 in the replacement field to give the print out spacing to be easier to read"
   ]
  },
  {
   "cell_type": "code",
   "execution_count": null,
   "metadata": {},
   "outputs": [],
   "source": []
  }
 ],
 "metadata": {
  "kernelspec": {
   "display_name": "Python [conda env:pyvizenv] *",
   "language": "python",
   "name": "conda-env-pyvizenv-py"
  },
  "language_info": {
   "codemirror_mode": {
    "name": "ipython",
    "version": 3
   },
   "file_extension": ".py",
   "mimetype": "text/x-python",
   "name": "python",
   "nbconvert_exporter": "python",
   "pygments_lexer": "ipython3",
   "version": "3.7.9"
  }
 },
 "nbformat": 4,
 "nbformat_minor": 4
}
