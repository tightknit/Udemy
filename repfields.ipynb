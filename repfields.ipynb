{
 "cells": [
  {
   "cell_type": "code",
   "execution_count": 4,
   "metadata": {},
   "outputs": [
    {
     "name": "stdout",
     "output_type": "stream",
     "text": [
      "My age is 24 years\n",
      "There are 31 days in Jan, Mar, May, Jul, Aug, Oct, and Dec\n"
     ]
    }
   ],
   "source": [
    "age = 24\n",
    "print(\"My age is {0} years\" .format(age)) #used the .format to include a number in the string without coercion\n",
    "\n",
    "print  (\"There are {0} days in {1}, {2}, {3}, {4}, {5}, {6}, and {7}\"\n",
    "       .format(31, \"Jan\", \"Mar\", \"May\", \"Jul\", \"Aug\", \"Oct\", \"Dec\"))"
   ]
  },
  {
   "cell_type": "code",
   "execution_count": null,
   "metadata": {},
   "outputs": [],
   "source": []
  }
 ],
 "metadata": {
  "kernelspec": {
   "display_name": "Python 3",
   "language": "python",
   "name": "python3"
  },
  "language_info": {
   "codemirror_mode": {
    "name": "ipython",
    "version": 3
   },
   "file_extension": ".py",
   "mimetype": "text/x-python",
   "name": "python",
   "nbconvert_exporter": "python",
   "pygments_lexer": "ipython3",
   "version": "3.7.9"
  }
 },
 "nbformat": 4,
 "nbformat_minor": 4
}
